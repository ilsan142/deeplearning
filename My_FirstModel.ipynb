{
  "nbformat": 4,
  "nbformat_minor": 0,
  "metadata": {
    "colab": {
      "provenance": [],
      "gpuType": "T4",
      "authorship_tag": "ABX9TyNmrFPEW+r/+e1WbblpqCpT",
      "include_colab_link": true
    },
    "kernelspec": {
      "name": "python3",
      "display_name": "Python 3"
    },
    "language_info": {
      "name": "python"
    },
    "accelerator": "GPU",
    "gpuClass": "standard"
  },
  "cells": [
    {
      "cell_type": "markdown",
      "metadata": {
        "id": "view-in-github",
        "colab_type": "text"
      },
      "source": [
        "<a href=\"https://colab.research.google.com/github/ilsan142/deeplearning/blob/main/My_FirstModel.ipynb\" target=\"_parent\"><img src=\"https://colab.research.google.com/assets/colab-badge.svg\" alt=\"Open In Colab\"/></a>"
      ]
    },
    {
      "cell_type": "code",
      "source": [
        "from IPython.display import Image\n"
      ],
      "metadata": {
        "id": "6B8Gt5QmWG-y"
      },
      "execution_count": 12,
      "outputs": []
    },
    {
      "cell_type": "code",
      "source": [
        "# https://learn.udacity.com/courses/ud187/lessons/7b590cdb-0acf-4118-848c-8728ced19bc6/concepts/946a3af2-4f06-4643-8115-f0ab760152a8"
      ],
      "metadata": {
        "id": "etV1KqvwY3US"
      },
      "execution_count": 17,
      "outputs": []
    },
    {
      "cell_type": "code",
      "source": [
        "# https://developers.google.com/machine-learning/crash-course/reducing-loss/video-lecture?hl=ko"
      ],
      "metadata": {
        "id": "gSxv-n9ZWNxz"
      },
      "execution_count": 18,
      "outputs": []
    },
    {
      "cell_type": "code",
      "execution_count": 1,
      "metadata": {
        "id": "5dNQjbYvZBUG"
      },
      "outputs": [],
      "source": [
        "import logging\n",
        "import tensorflow as tf\n",
        "\n",
        "# Set logging level to ERROR\n",
        "logging.getLogger(\"tensorflow\").setLevel(logging.ERROR)\n",
        "\n",
        "import numpy as np\n"
      ]
    },
    {
      "cell_type": "code",
      "source": [
        "# input_output data 8 * epochs 500 = trained with 4000 example \n",
        "celsius_q    = np.array([-40,-10,0,8,15,22,38,55], dtype=float)\n",
        "fahrenheit_a = np.array([-40,14,32,46,59,72,100,131], dtype=float)\n",
        "for i,c in enumerate(celsius_q):\n",
        "  print(\"{} degrees Celsious = {} degress Fahrenhet\".format(c, fahrenheit_a[i]))"
      ],
      "metadata": {
        "colab": {
          "base_uri": "https://localhost:8080/"
        },
        "id": "ZBipu-d-ZRqV",
        "outputId": "9620c90f-54ee-400e-bf08-b5e9bbe9aaee"
      },
      "execution_count": 2,
      "outputs": [
        {
          "output_type": "stream",
          "name": "stdout",
          "text": [
            "-40.0 degrees Celsious = -40.0 degress Fahrenhet\n",
            "-10.0 degrees Celsious = 14.0 degress Fahrenhet\n",
            "0.0 degrees Celsious = 32.0 degress Fahrenhet\n",
            "8.0 degrees Celsious = 46.0 degress Fahrenhet\n",
            "15.0 degrees Celsious = 59.0 degress Fahrenhet\n",
            "22.0 degrees Celsious = 72.0 degress Fahrenhet\n",
            "38.0 degrees Celsious = 100.0 degress Fahrenhet\n",
            "55.0 degrees Celsious = 131.0 degress Fahrenhet\n"
          ]
        }
      ]
    },
    {
      "cell_type": "code",
      "source": [
        "L0 = tf.keras.layers.Dense(units=1,input_shape=[1])"
      ],
      "metadata": {
        "id": "87lKacRPaT8b"
      },
      "execution_count": 3,
      "outputs": []
    },
    {
      "cell_type": "code",
      "source": [
        "model= tf.keras.Sequential([L0])"
      ],
      "metadata": {
        "id": "w0X9N49wbFA6"
      },
      "execution_count": 4,
      "outputs": []
    },
    {
      "cell_type": "code",
      "source": [
        "model.compile(loss='mean_squared_error',\n",
        "              optimizer = tf.keras.optimizers.Adam(0.1))"
      ],
      "metadata": {
        "id": "XUe3mjj5bNjK"
      },
      "execution_count": 5,
      "outputs": []
    },
    {
      "cell_type": "code",
      "source": [
        "history  = model.fit(celsius_q, fahrenheit_a,epochs =500, verbose=False )\n",
        "print('Finished training the model')"
      ],
      "metadata": {
        "colab": {
          "base_uri": "https://localhost:8080/"
        },
        "id": "Vn2Mj1NqbkJN",
        "outputId": "2f2f004c-94f6-4678-d5ee-cb7e90ed17b9"
      },
      "execution_count": 6,
      "outputs": [
        {
          "output_type": "stream",
          "name": "stdout",
          "text": [
            "Finished training the model\n"
          ]
        }
      ]
    },
    {
      "cell_type": "code",
      "source": [
        "import matplotlib.pyplot as plt\n",
        "plt.xlabel('Epoch Number')\n",
        "plt.ylabel('Loss Magnitude')\n",
        "plt.axhline(y=0, color='r', linestyle='-')\n",
        "\n",
        "plt.plot(history.history['loss'])\n",
        "plt.show()"
      ],
      "metadata": {
        "colab": {
          "base_uri": "https://localhost:8080/",
          "height": 449
        },
        "id": "mKS9FGoycFdf",
        "outputId": "3dbdfc11-5fcb-4f26-801f-f8d1e81405a7"
      },
      "execution_count": 7,
      "outputs": [
        {
          "output_type": "display_data",
          "data": {
            "text/plain": [
              "<Figure size 640x480 with 1 Axes>"
            ],
            "image/png": "[encoded data removed]"
          },
          "metadata": {}
        }
      ]
    },
    {
      "cell_type": "code",
      "source": [
        "print(model.predict([100.0]))"
      ],
      "metadata": {
        "colab": {
          "base_uri": "https://localhost:8080/"
        },
        "id": "T5hmn55icvCk",
        "outputId": "42b83186-212e-497e-d7dd-e8b3d5226333"
      },
      "execution_count": 8,
      "outputs": [
        {
          "output_type": "stream",
          "name": "stdout",
          "text": [
            "1/1 [==============================] - 0s 70ms/step\n",
            "[[212.82982]]\n"
          ]
        }
      ]
    },
    {
      "cell_type": "code",
      "source": [
        "# shoud be 1.8 and 32 for exact number, but it is quite accurate\n",
        "print('These are the layer variables : {}'.format(L0.get_weights()))"
      ],
      "metadata": {
        "colab": {
          "base_uri": "https://localhost:8080/"
        },
        "id": "oVfRbXnldGOk",
        "outputId": "78c66648-3449-4b19-bec6-174aebe8de05"
      },
      "execution_count": 9,
      "outputs": [
        {
          "output_type": "stream",
          "name": "stdout",
          "text": [
            "These are the layer variables : [array([[1.842556]], dtype=float32), array([28.574224], dtype=float32)]\n"
          ]
        }
      ]
    },
    {
      "cell_type": "code",
      "source": [
        "L0 = tf.keras.layers.Dense(units=4,input_shape=[1])\n",
        "L1 = tf.keras.layers.Dense(units=4)\n",
        "L2 = tf.keras.layers.Dense(units=1)\n",
        "model= tf.keras.Sequential([L0,L1,L2])\n",
        "model.compile(loss='mean_squared_error',optimizer=tf.keras.optimizers.Adam(0.1))   # calculate loss using loss function\n",
        "model.fit(celsius_q, fahrenheit_a ,epochs = 500, verbose =False)\n",
        "print('Finiched traning the model')\n",
        "print(model.predict([100.0]))\n",
        "print('Model predicts that 100 degress Celsius is :{} degrees Fahrenheit'.format(model.predict([100.0])))\n",
        "print('These are the L0 layer variables : {}'.format(L0.get_weights()))\n",
        "print('These are the L1 layer variables : {}'.format(L1.get_weights()))\n",
        "print('These are the L2 layer variables : {}'.format(L2.get_weights()))"
      ],
      "metadata": {
        "colab": {
          "base_uri": "https://localhost:8080/"
        },
        "id": "C6jBCdZsd_AN",
        "outputId": "a9335c9b-3e42-4335-8cc1-95753e309fd8"
      },
      "execution_count": 10,
      "outputs": [
        {
          "output_type": "stream",
          "name": "stdout",
          "text": [
            "Finiched traning the model\n",
            "1/1 [==============================] - 0s 65ms/step\n",
            "[[211.87253]]\n",
            "1/1 [==============================] - 0s 29ms/step\n",
            "Model predicts that 100 degress Celsius is :[[211.87253]] degrees Fahrenheit\n",
            "These are the L0 layer variables : [array([[ 0.33401424, -0.21227682,  0.5039469 , -0.07647415]],\n",
            "      dtype=float32), array([-1.3603902, -2.7368886,  3.0724578,  1.4963018], dtype=float32)]\n",
            "These are the L1 layer variables : [array([[ 0.898332  ,  0.40493372,  0.21763076,  0.6454902 ],\n",
            "       [ 0.05319898,  0.3041998 , -1.0094367 ,  1.0965565 ],\n",
            "       [-0.07782914, -0.43672234,  0.9553984 , -1.2125531 ],\n",
            "       [-0.22367056, -0.72626215,  1.2225151 , -0.104138  ]],\n",
            "      dtype=float32), array([-1.4108641, -1.7654616,  3.2999475, -3.0525918], dtype=float32)]\n",
            "These are the L2 layer variables : [array([[ 0.11155427],\n",
            "       [-0.0522784 ],\n",
            "       [ 1.2114753 ],\n",
            "       [-1.5264188 ]], dtype=float32), array([2.7781093], dtype=float32)]\n"
          ]
        }
      ]
    },
    {
      "cell_type": "code",
      "source": [
        "plt.xlabel('Epoch Number')\n",
        "plt.ylabel('Loss Magnitude')\n",
        "plt.axhline(y=0, color='r', linestyle='-')\n",
        "\n",
        "plt.plot(history.history['loss'])\n",
        "plt.show()"
      ],
      "metadata": {
        "colab": {
          "base_uri": "https://localhost:8080/",
          "height": 449
        },
        "id": "GtV5y5RKfmoF",
        "outputId": "a624f27e-7afe-4867-ca3b-d8ee4784f867"
      },
      "execution_count": 11,
      "outputs": [
        {
          "output_type": "display_data",
          "data": {
            "text/plain": [
              "<Figure size 640x480 with 1 Axes>"
            ],
            "image/png": "[encoded data removed]"
          },
          "metadata": {}
        }
      ]
    },
    {
      "cell_type": "code",
      "source": [],
      "metadata": {
        "id": "dXH8TINUyfJD"
      },
      "execution_count": 10,
      "outputs": []
    }
  ]
}